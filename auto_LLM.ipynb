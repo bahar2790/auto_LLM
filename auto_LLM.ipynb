{
  "nbformat": 4,
  "nbformat_minor": 0,
  "metadata": {
    "colab": {
      "provenance": []
    },
    "kernelspec": {
      "name": "python3",
      "display_name": "Python 3"
    },
    "language_info": {
      "name": "python"
    },
    "widgets": {
      "application/vnd.jupyter.widget-state+json": {
        "87830725595b4c23816349c5934037ca": {
          "model_module": "@jupyter-widgets/controls",
          "model_name": "HBoxModel",
          "model_module_version": "1.5.0",
          "state": {
            "_dom_classes": [],
            "_model_module": "@jupyter-widgets/controls",
            "_model_module_version": "1.5.0",
            "_model_name": "HBoxModel",
            "_view_count": null,
            "_view_module": "@jupyter-widgets/controls",
            "_view_module_version": "1.5.0",
            "_view_name": "HBoxView",
            "box_style": "",
            "children": [
              "IPY_MODEL_3b90904e1ff54ddaa7fd5e2fdb13a292",
              "IPY_MODEL_97b7b9bb3ad04329b8c40657a972f14e",
              "IPY_MODEL_b3053e2aa25543d1bbf28634e1bb6d48"
            ],
            "layout": "IPY_MODEL_2e23feff652e47f5a47f6c5409dfed49"
          }
        },
        "3b90904e1ff54ddaa7fd5e2fdb13a292": {
          "model_module": "@jupyter-widgets/controls",
          "model_name": "HTMLModel",
          "model_module_version": "1.5.0",
          "state": {
            "_dom_classes": [],
            "_model_module": "@jupyter-widgets/controls",
            "_model_module_version": "1.5.0",
            "_model_name": "HTMLModel",
            "_view_count": null,
            "_view_module": "@jupyter-widgets/controls",
            "_view_module_version": "1.5.0",
            "_view_name": "HTMLView",
            "description": "",
            "description_tooltip": null,
            "layout": "IPY_MODEL_d347d347d09c4fe3a08b02fca683f15d",
            "placeholder": "​",
            "style": "IPY_MODEL_ce3c250e93a34b60aacb6a933f95400f",
            "value": "Parsing nodes: 100%"
          }
        },
        "97b7b9bb3ad04329b8c40657a972f14e": {
          "model_module": "@jupyter-widgets/controls",
          "model_name": "FloatProgressModel",
          "model_module_version": "1.5.0",
          "state": {
            "_dom_classes": [],
            "_model_module": "@jupyter-widgets/controls",
            "_model_module_version": "1.5.0",
            "_model_name": "FloatProgressModel",
            "_view_count": null,
            "_view_module": "@jupyter-widgets/controls",
            "_view_module_version": "1.5.0",
            "_view_name": "ProgressView",
            "bar_style": "success",
            "description": "",
            "description_tooltip": null,
            "layout": "IPY_MODEL_ec7e924fe06b4134bb9936c40cec0c27",
            "max": 24,
            "min": 0,
            "orientation": "horizontal",
            "style": "IPY_MODEL_6fd82251fff24a53b6da64f3c1880aad",
            "value": 24
          }
        },
        "b3053e2aa25543d1bbf28634e1bb6d48": {
          "model_module": "@jupyter-widgets/controls",
          "model_name": "HTMLModel",
          "model_module_version": "1.5.0",
          "state": {
            "_dom_classes": [],
            "_model_module": "@jupyter-widgets/controls",
            "_model_module_version": "1.5.0",
            "_model_name": "HTMLModel",
            "_view_count": null,
            "_view_module": "@jupyter-widgets/controls",
            "_view_module_version": "1.5.0",
            "_view_name": "HTMLView",
            "description": "",
            "description_tooltip": null,
            "layout": "IPY_MODEL_838f2e0e164c4879b22e141307d9e377",
            "placeholder": "​",
            "style": "IPY_MODEL_72ccd9e392a8465db543c74dfc7a9f1d",
            "value": " 24/24 [00:00&lt;00:00, 244.37it/s]"
          }
        },
        "2e23feff652e47f5a47f6c5409dfed49": {
          "model_module": "@jupyter-widgets/base",
          "model_name": "LayoutModel",
          "model_module_version": "1.2.0",
          "state": {
            "_model_module": "@jupyter-widgets/base",
            "_model_module_version": "1.2.0",
            "_model_name": "LayoutModel",
            "_view_count": null,
            "_view_module": "@jupyter-widgets/base",
            "_view_module_version": "1.2.0",
            "_view_name": "LayoutView",
            "align_content": null,
            "align_items": null,
            "align_self": null,
            "border": null,
            "bottom": null,
            "display": null,
            "flex": null,
            "flex_flow": null,
            "grid_area": null,
            "grid_auto_columns": null,
            "grid_auto_flow": null,
            "grid_auto_rows": null,
            "grid_column": null,
            "grid_gap": null,
            "grid_row": null,
            "grid_template_areas": null,
            "grid_template_columns": null,
            "grid_template_rows": null,
            "height": null,
            "justify_content": null,
            "justify_items": null,
            "left": null,
            "margin": null,
            "max_height": null,
            "max_width": null,
            "min_height": null,
            "min_width": null,
            "object_fit": null,
            "object_position": null,
            "order": null,
            "overflow": null,
            "overflow_x": null,
            "overflow_y": null,
            "padding": null,
            "right": null,
            "top": null,
            "visibility": null,
            "width": null
          }
        },
        "d347d347d09c4fe3a08b02fca683f15d": {
          "model_module": "@jupyter-widgets/base",
          "model_name": "LayoutModel",
          "model_module_version": "1.2.0",
          "state": {
            "_model_module": "@jupyter-widgets/base",
            "_model_module_version": "1.2.0",
            "_model_name": "LayoutModel",
            "_view_count": null,
            "_view_module": "@jupyter-widgets/base",
            "_view_module_version": "1.2.0",
            "_view_name": "LayoutView",
            "align_content": null,
            "align_items": null,
            "align_self": null,
            "border": null,
            "bottom": null,
            "display": null,
            "flex": null,
            "flex_flow": null,
            "grid_area": null,
            "grid_auto_columns": null,
            "grid_auto_flow": null,
            "grid_auto_rows": null,
            "grid_column": null,
            "grid_gap": null,
            "grid_row": null,
            "grid_template_areas": null,
            "grid_template_columns": null,
            "grid_template_rows": null,
            "height": null,
            "justify_content": null,
            "justify_items": null,
            "left": null,
            "margin": null,
            "max_height": null,
            "max_width": null,
            "min_height": null,
            "min_width": null,
            "object_fit": null,
            "object_position": null,
            "order": null,
            "overflow": null,
            "overflow_x": null,
            "overflow_y": null,
            "padding": null,
            "right": null,
            "top": null,
            "visibility": null,
            "width": null
          }
        },
        "ce3c250e93a34b60aacb6a933f95400f": {
          "model_module": "@jupyter-widgets/controls",
          "model_name": "DescriptionStyleModel",
          "model_module_version": "1.5.0",
          "state": {
            "_model_module": "@jupyter-widgets/controls",
            "_model_module_version": "1.5.0",
            "_model_name": "DescriptionStyleModel",
            "_view_count": null,
            "_view_module": "@jupyter-widgets/base",
            "_view_module_version": "1.2.0",
            "_view_name": "StyleView",
            "description_width": ""
          }
        },
        "ec7e924fe06b4134bb9936c40cec0c27": {
          "model_module": "@jupyter-widgets/base",
          "model_name": "LayoutModel",
          "model_module_version": "1.2.0",
          "state": {
            "_model_module": "@jupyter-widgets/base",
            "_model_module_version": "1.2.0",
            "_model_name": "LayoutModel",
            "_view_count": null,
            "_view_module": "@jupyter-widgets/base",
            "_view_module_version": "1.2.0",
            "_view_name": "LayoutView",
            "align_content": null,
            "align_items": null,
            "align_self": null,
            "border": null,
            "bottom": null,
            "display": null,
            "flex": null,
            "flex_flow": null,
            "grid_area": null,
            "grid_auto_columns": null,
            "grid_auto_flow": null,
            "grid_auto_rows": null,
            "grid_column": null,
            "grid_gap": null,
            "grid_row": null,
            "grid_template_areas": null,
            "grid_template_columns": null,
            "grid_template_rows": null,
            "height": null,
            "justify_content": null,
            "justify_items": null,
            "left": null,
            "margin": null,
            "max_height": null,
            "max_width": null,
            "min_height": null,
            "min_width": null,
            "object_fit": null,
            "object_position": null,
            "order": null,
            "overflow": null,
            "overflow_x": null,
            "overflow_y": null,
            "padding": null,
            "right": null,
            "top": null,
            "visibility": null,
            "width": null
          }
        },
        "6fd82251fff24a53b6da64f3c1880aad": {
          "model_module": "@jupyter-widgets/controls",
          "model_name": "ProgressStyleModel",
          "model_module_version": "1.5.0",
          "state": {
            "_model_module": "@jupyter-widgets/controls",
            "_model_module_version": "1.5.0",
            "_model_name": "ProgressStyleModel",
            "_view_count": null,
            "_view_module": "@jupyter-widgets/base",
            "_view_module_version": "1.2.0",
            "_view_name": "StyleView",
            "bar_color": null,
            "description_width": ""
          }
        },
        "838f2e0e164c4879b22e141307d9e377": {
          "model_module": "@jupyter-widgets/base",
          "model_name": "LayoutModel",
          "model_module_version": "1.2.0",
          "state": {
            "_model_module": "@jupyter-widgets/base",
            "_model_module_version": "1.2.0",
            "_model_name": "LayoutModel",
            "_view_count": null,
            "_view_module": "@jupyter-widgets/base",
            "_view_module_version": "1.2.0",
            "_view_name": "LayoutView",
            "align_content": null,
            "align_items": null,
            "align_self": null,
            "border": null,
            "bottom": null,
            "display": null,
            "flex": null,
            "flex_flow": null,
            "grid_area": null,
            "grid_auto_columns": null,
            "grid_auto_flow": null,
            "grid_auto_rows": null,
            "grid_column": null,
            "grid_gap": null,
            "grid_row": null,
            "grid_template_areas": null,
            "grid_template_columns": null,
            "grid_template_rows": null,
            "height": null,
            "justify_content": null,
            "justify_items": null,
            "left": null,
            "margin": null,
            "max_height": null,
            "max_width": null,
            "min_height": null,
            "min_width": null,
            "object_fit": null,
            "object_position": null,
            "order": null,
            "overflow": null,
            "overflow_x": null,
            "overflow_y": null,
            "padding": null,
            "right": null,
            "top": null,
            "visibility": null,
            "width": null
          }
        },
        "72ccd9e392a8465db543c74dfc7a9f1d": {
          "model_module": "@jupyter-widgets/controls",
          "model_name": "DescriptionStyleModel",
          "model_module_version": "1.5.0",
          "state": {
            "_model_module": "@jupyter-widgets/controls",
            "_model_module_version": "1.5.0",
            "_model_name": "DescriptionStyleModel",
            "_view_count": null,
            "_view_module": "@jupyter-widgets/base",
            "_view_module_version": "1.2.0",
            "_view_name": "StyleView",
            "description_width": ""
          }
        },
        "f73fa534b6ea49c492cb91c190c87c59": {
          "model_module": "@jupyter-widgets/controls",
          "model_name": "HBoxModel",
          "model_module_version": "1.5.0",
          "state": {
            "_dom_classes": [],
            "_model_module": "@jupyter-widgets/controls",
            "_model_module_version": "1.5.0",
            "_model_name": "HBoxModel",
            "_view_count": null,
            "_view_module": "@jupyter-widgets/controls",
            "_view_module_version": "1.5.0",
            "_view_name": "HBoxView",
            "box_style": "",
            "children": [
              "IPY_MODEL_290b1585efe64d519b6cce7d098e02c6",
              "IPY_MODEL_db836e4e92164b8aa7eb8829814210e0",
              "IPY_MODEL_1410281de11144f5ae7b96e689be4974"
            ],
            "layout": "IPY_MODEL_c02489e3737d4d2f87ad03ac9d6a7b64"
          }
        },
        "290b1585efe64d519b6cce7d098e02c6": {
          "model_module": "@jupyter-widgets/controls",
          "model_name": "HTMLModel",
          "model_module_version": "1.5.0",
          "state": {
            "_dom_classes": [],
            "_model_module": "@jupyter-widgets/controls",
            "_model_module_version": "1.5.0",
            "_model_name": "HTMLModel",
            "_view_count": null,
            "_view_module": "@jupyter-widgets/controls",
            "_view_module_version": "1.5.0",
            "_view_name": "HTMLView",
            "description": "",
            "description_tooltip": null,
            "layout": "IPY_MODEL_aab4565ae2ce444db33bc8f8081bf136",
            "placeholder": "​",
            "style": "IPY_MODEL_ef3fb1be2e014f1497eefe910d5ad9e8",
            "value": "Generating embeddings: 100%"
          }
        },
        "db836e4e92164b8aa7eb8829814210e0": {
          "model_module": "@jupyter-widgets/controls",
          "model_name": "FloatProgressModel",
          "model_module_version": "1.5.0",
          "state": {
            "_dom_classes": [],
            "_model_module": "@jupyter-widgets/controls",
            "_model_module_version": "1.5.0",
            "_model_name": "FloatProgressModel",
            "_view_count": null,
            "_view_module": "@jupyter-widgets/controls",
            "_view_module_version": "1.5.0",
            "_view_name": "ProgressView",
            "bar_style": "success",
            "description": "",
            "description_tooltip": null,
            "layout": "IPY_MODEL_6a3681d092974aa3a9f2a97b18518308",
            "max": 47,
            "min": 0,
            "orientation": "horizontal",
            "style": "IPY_MODEL_32e2de6695144fb8a2fe3654c6a45335",
            "value": 47
          }
        },
        "1410281de11144f5ae7b96e689be4974": {
          "model_module": "@jupyter-widgets/controls",
          "model_name": "HTMLModel",
          "model_module_version": "1.5.0",
          "state": {
            "_dom_classes": [],
            "_model_module": "@jupyter-widgets/controls",
            "_model_module_version": "1.5.0",
            "_model_name": "HTMLModel",
            "_view_count": null,
            "_view_module": "@jupyter-widgets/controls",
            "_view_module_version": "1.5.0",
            "_view_name": "HTMLView",
            "description": "",
            "description_tooltip": null,
            "layout": "IPY_MODEL_b12f1fd49ccc4025bcbf7605d4d69beb",
            "placeholder": "​",
            "style": "IPY_MODEL_d196375176e84a38a0316d137a6628f9",
            "value": " 47/47 [00:18&lt;00:00,  2.63it/s]"
          }
        },
        "c02489e3737d4d2f87ad03ac9d6a7b64": {
          "model_module": "@jupyter-widgets/base",
          "model_name": "LayoutModel",
          "model_module_version": "1.2.0",
          "state": {
            "_model_module": "@jupyter-widgets/base",
            "_model_module_version": "1.2.0",
            "_model_name": "LayoutModel",
            "_view_count": null,
            "_view_module": "@jupyter-widgets/base",
            "_view_module_version": "1.2.0",
            "_view_name": "LayoutView",
            "align_content": null,
            "align_items": null,
            "align_self": null,
            "border": null,
            "bottom": null,
            "display": null,
            "flex": null,
            "flex_flow": null,
            "grid_area": null,
            "grid_auto_columns": null,
            "grid_auto_flow": null,
            "grid_auto_rows": null,
            "grid_column": null,
            "grid_gap": null,
            "grid_row": null,
            "grid_template_areas": null,
            "grid_template_columns": null,
            "grid_template_rows": null,
            "height": null,
            "justify_content": null,
            "justify_items": null,
            "left": null,
            "margin": null,
            "max_height": null,
            "max_width": null,
            "min_height": null,
            "min_width": null,
            "object_fit": null,
            "object_position": null,
            "order": null,
            "overflow": null,
            "overflow_x": null,
            "overflow_y": null,
            "padding": null,
            "right": null,
            "top": null,
            "visibility": null,
            "width": null
          }
        },
        "aab4565ae2ce444db33bc8f8081bf136": {
          "model_module": "@jupyter-widgets/base",
          "model_name": "LayoutModel",
          "model_module_version": "1.2.0",
          "state": {
            "_model_module": "@jupyter-widgets/base",
            "_model_module_version": "1.2.0",
            "_model_name": "LayoutModel",
            "_view_count": null,
            "_view_module": "@jupyter-widgets/base",
            "_view_module_version": "1.2.0",
            "_view_name": "LayoutView",
            "align_content": null,
            "align_items": null,
            "align_self": null,
            "border": null,
            "bottom": null,
            "display": null,
            "flex": null,
            "flex_flow": null,
            "grid_area": null,
            "grid_auto_columns": null,
            "grid_auto_flow": null,
            "grid_auto_rows": null,
            "grid_column": null,
            "grid_gap": null,
            "grid_row": null,
            "grid_template_areas": null,
            "grid_template_columns": null,
            "grid_template_rows": null,
            "height": null,
            "justify_content": null,
            "justify_items": null,
            "left": null,
            "margin": null,
            "max_height": null,
            "max_width": null,
            "min_height": null,
            "min_width": null,
            "object_fit": null,
            "object_position": null,
            "order": null,
            "overflow": null,
            "overflow_x": null,
            "overflow_y": null,
            "padding": null,
            "right": null,
            "top": null,
            "visibility": null,
            "width": null
          }
        },
        "ef3fb1be2e014f1497eefe910d5ad9e8": {
          "model_module": "@jupyter-widgets/controls",
          "model_name": "DescriptionStyleModel",
          "model_module_version": "1.5.0",
          "state": {
            "_model_module": "@jupyter-widgets/controls",
            "_model_module_version": "1.5.0",
            "_model_name": "DescriptionStyleModel",
            "_view_count": null,
            "_view_module": "@jupyter-widgets/base",
            "_view_module_version": "1.2.0",
            "_view_name": "StyleView",
            "description_width": ""
          }
        },
        "6a3681d092974aa3a9f2a97b18518308": {
          "model_module": "@jupyter-widgets/base",
          "model_name": "LayoutModel",
          "model_module_version": "1.2.0",
          "state": {
            "_model_module": "@jupyter-widgets/base",
            "_model_module_version": "1.2.0",
            "_model_name": "LayoutModel",
            "_view_count": null,
            "_view_module": "@jupyter-widgets/base",
            "_view_module_version": "1.2.0",
            "_view_name": "LayoutView",
            "align_content": null,
            "align_items": null,
            "align_self": null,
            "border": null,
            "bottom": null,
            "display": null,
            "flex": null,
            "flex_flow": null,
            "grid_area": null,
            "grid_auto_columns": null,
            "grid_auto_flow": null,
            "grid_auto_rows": null,
            "grid_column": null,
            "grid_gap": null,
            "grid_row": null,
            "grid_template_areas": null,
            "grid_template_columns": null,
            "grid_template_rows": null,
            "height": null,
            "justify_content": null,
            "justify_items": null,
            "left": null,
            "margin": null,
            "max_height": null,
            "max_width": null,
            "min_height": null,
            "min_width": null,
            "object_fit": null,
            "object_position": null,
            "order": null,
            "overflow": null,
            "overflow_x": null,
            "overflow_y": null,
            "padding": null,
            "right": null,
            "top": null,
            "visibility": null,
            "width": null
          }
        },
        "32e2de6695144fb8a2fe3654c6a45335": {
          "model_module": "@jupyter-widgets/controls",
          "model_name": "ProgressStyleModel",
          "model_module_version": "1.5.0",
          "state": {
            "_model_module": "@jupyter-widgets/controls",
            "_model_module_version": "1.5.0",
            "_model_name": "ProgressStyleModel",
            "_view_count": null,
            "_view_module": "@jupyter-widgets/base",
            "_view_module_version": "1.2.0",
            "_view_name": "StyleView",
            "bar_color": null,
            "description_width": ""
          }
        },
        "b12f1fd49ccc4025bcbf7605d4d69beb": {
          "model_module": "@jupyter-widgets/base",
          "model_name": "LayoutModel",
          "model_module_version": "1.2.0",
          "state": {
            "_model_module": "@jupyter-widgets/base",
            "_model_module_version": "1.2.0",
            "_model_name": "LayoutModel",
            "_view_count": null,
            "_view_module": "@jupyter-widgets/base",
            "_view_module_version": "1.2.0",
            "_view_name": "LayoutView",
            "align_content": null,
            "align_items": null,
            "align_self": null,
            "border": null,
            "bottom": null,
            "display": null,
            "flex": null,
            "flex_flow": null,
            "grid_area": null,
            "grid_auto_columns": null,
            "grid_auto_flow": null,
            "grid_auto_rows": null,
            "grid_column": null,
            "grid_gap": null,
            "grid_row": null,
            "grid_template_areas": null,
            "grid_template_columns": null,
            "grid_template_rows": null,
            "height": null,
            "justify_content": null,
            "justify_items": null,
            "left": null,
            "margin": null,
            "max_height": null,
            "max_width": null,
            "min_height": null,
            "min_width": null,
            "object_fit": null,
            "object_position": null,
            "order": null,
            "overflow": null,
            "overflow_x": null,
            "overflow_y": null,
            "padding": null,
            "right": null,
            "top": null,
            "visibility": null,
            "width": null
          }
        },
        "d196375176e84a38a0316d137a6628f9": {
          "model_module": "@jupyter-widgets/controls",
          "model_name": "DescriptionStyleModel",
          "model_module_version": "1.5.0",
          "state": {
            "_model_module": "@jupyter-widgets/controls",
            "_model_module_version": "1.5.0",
            "_model_name": "DescriptionStyleModel",
            "_view_count": null,
            "_view_module": "@jupyter-widgets/base",
            "_view_module_version": "1.2.0",
            "_view_name": "StyleView",
            "description_width": ""
          }
        },
        "dc33dc7c28be44c8851072674b1299ba": {
          "model_module": "@jupyter-widgets/controls",
          "model_name": "HBoxModel",
          "model_module_version": "1.5.0",
          "state": {
            "_dom_classes": [],
            "_model_module": "@jupyter-widgets/controls",
            "_model_module_version": "1.5.0",
            "_model_name": "HBoxModel",
            "_view_count": null,
            "_view_module": "@jupyter-widgets/controls",
            "_view_module_version": "1.5.0",
            "_view_name": "HBoxView",
            "box_style": "",
            "children": [
              "IPY_MODEL_52fd3d79fc074eb081307d87d7e4a5a1",
              "IPY_MODEL_b9ea87b3b48b4e3da07ca043b8fb99ac",
              "IPY_MODEL_f842d11edccd4332980d2acf9a169709"
            ],
            "layout": "IPY_MODEL_af2a5cecc7b945ae90a3247df0d469e5"
          }
        },
        "52fd3d79fc074eb081307d87d7e4a5a1": {
          "model_module": "@jupyter-widgets/controls",
          "model_name": "HTMLModel",
          "model_module_version": "1.5.0",
          "state": {
            "_dom_classes": [],
            "_model_module": "@jupyter-widgets/controls",
            "_model_module_version": "1.5.0",
            "_model_name": "HTMLModel",
            "_view_count": null,
            "_view_module": "@jupyter-widgets/controls",
            "_view_module_version": "1.5.0",
            "_view_name": "HTMLView",
            "description": "",
            "description_tooltip": null,
            "layout": "IPY_MODEL_379ba5ef90554cc3a8a44d17346abe58",
            "placeholder": "​",
            "style": "IPY_MODEL_f1e1e842278c4d6e8e3c08f758e364cc",
            "value": "Parsing nodes: 100%"
          }
        },
        "b9ea87b3b48b4e3da07ca043b8fb99ac": {
          "model_module": "@jupyter-widgets/controls",
          "model_name": "FloatProgressModel",
          "model_module_version": "1.5.0",
          "state": {
            "_dom_classes": [],
            "_model_module": "@jupyter-widgets/controls",
            "_model_module_version": "1.5.0",
            "_model_name": "FloatProgressModel",
            "_view_count": null,
            "_view_module": "@jupyter-widgets/controls",
            "_view_module_version": "1.5.0",
            "_view_name": "ProgressView",
            "bar_style": "success",
            "description": "",
            "description_tooltip": null,
            "layout": "IPY_MODEL_11df008084254f5fb6f5cff6ad26605c",
            "max": 24,
            "min": 0,
            "orientation": "horizontal",
            "style": "IPY_MODEL_dd9f7a26c76541408c85a869dfac3492",
            "value": 24
          }
        },
        "f842d11edccd4332980d2acf9a169709": {
          "model_module": "@jupyter-widgets/controls",
          "model_name": "HTMLModel",
          "model_module_version": "1.5.0",
          "state": {
            "_dom_classes": [],
            "_model_module": "@jupyter-widgets/controls",
            "_model_module_version": "1.5.0",
            "_model_name": "HTMLModel",
            "_view_count": null,
            "_view_module": "@jupyter-widgets/controls",
            "_view_module_version": "1.5.0",
            "_view_name": "HTMLView",
            "description": "",
            "description_tooltip": null,
            "layout": "IPY_MODEL_da63db9ab53144f8980798a7cb58d711",
            "placeholder": "​",
            "style": "IPY_MODEL_ef25d350ae684eb49eaa55dafdd1a5e9",
            "value": " 24/24 [00:00&lt;00:00, 256.02it/s]"
          }
        },
        "af2a5cecc7b945ae90a3247df0d469e5": {
          "model_module": "@jupyter-widgets/base",
          "model_name": "LayoutModel",
          "model_module_version": "1.2.0",
          "state": {
            "_model_module": "@jupyter-widgets/base",
            "_model_module_version": "1.2.0",
            "_model_name": "LayoutModel",
            "_view_count": null,
            "_view_module": "@jupyter-widgets/base",
            "_view_module_version": "1.2.0",
            "_view_name": "LayoutView",
            "align_content": null,
            "align_items": null,
            "align_self": null,
            "border": null,
            "bottom": null,
            "display": null,
            "flex": null,
            "flex_flow": null,
            "grid_area": null,
            "grid_auto_columns": null,
            "grid_auto_flow": null,
            "grid_auto_rows": null,
            "grid_column": null,
            "grid_gap": null,
            "grid_row": null,
            "grid_template_areas": null,
            "grid_template_columns": null,
            "grid_template_rows": null,
            "height": null,
            "justify_content": null,
            "justify_items": null,
            "left": null,
            "margin": null,
            "max_height": null,
            "max_width": null,
            "min_height": null,
            "min_width": null,
            "object_fit": null,
            "object_position": null,
            "order": null,
            "overflow": null,
            "overflow_x": null,
            "overflow_y": null,
            "padding": null,
            "right": null,
            "top": null,
            "visibility": null,
            "width": null
          }
        },
        "379ba5ef90554cc3a8a44d17346abe58": {
          "model_module": "@jupyter-widgets/base",
          "model_name": "LayoutModel",
          "model_module_version": "1.2.0",
          "state": {
            "_model_module": "@jupyter-widgets/base",
            "_model_module_version": "1.2.0",
            "_model_name": "LayoutModel",
            "_view_count": null,
            "_view_module": "@jupyter-widgets/base",
            "_view_module_version": "1.2.0",
            "_view_name": "LayoutView",
            "align_content": null,
            "align_items": null,
            "align_self": null,
            "border": null,
            "bottom": null,
            "display": null,
            "flex": null,
            "flex_flow": null,
            "grid_area": null,
            "grid_auto_columns": null,
            "grid_auto_flow": null,
            "grid_auto_rows": null,
            "grid_column": null,
            "grid_gap": null,
            "grid_row": null,
            "grid_template_areas": null,
            "grid_template_columns": null,
            "grid_template_rows": null,
            "height": null,
            "justify_content": null,
            "justify_items": null,
            "left": null,
            "margin": null,
            "max_height": null,
            "max_width": null,
            "min_height": null,
            "min_width": null,
            "object_fit": null,
            "object_position": null,
            "order": null,
            "overflow": null,
            "overflow_x": null,
            "overflow_y": null,
            "padding": null,
            "right": null,
            "top": null,
            "visibility": null,
            "width": null
          }
        },
        "f1e1e842278c4d6e8e3c08f758e364cc": {
          "model_module": "@jupyter-widgets/controls",
          "model_name": "DescriptionStyleModel",
          "model_module_version": "1.5.0",
          "state": {
            "_model_module": "@jupyter-widgets/controls",
            "_model_module_version": "1.5.0",
            "_model_name": "DescriptionStyleModel",
            "_view_count": null,
            "_view_module": "@jupyter-widgets/base",
            "_view_module_version": "1.2.0",
            "_view_name": "StyleView",
            "description_width": ""
          }
        },
        "11df008084254f5fb6f5cff6ad26605c": {
          "model_module": "@jupyter-widgets/base",
          "model_name": "LayoutModel",
          "model_module_version": "1.2.0",
          "state": {
            "_model_module": "@jupyter-widgets/base",
            "_model_module_version": "1.2.0",
            "_model_name": "LayoutModel",
            "_view_count": null,
            "_view_module": "@jupyter-widgets/base",
            "_view_module_version": "1.2.0",
            "_view_name": "LayoutView",
            "align_content": null,
            "align_items": null,
            "align_self": null,
            "border": null,
            "bottom": null,
            "display": null,
            "flex": null,
            "flex_flow": null,
            "grid_area": null,
            "grid_auto_columns": null,
            "grid_auto_flow": null,
            "grid_auto_rows": null,
            "grid_column": null,
            "grid_gap": null,
            "grid_row": null,
            "grid_template_areas": null,
            "grid_template_columns": null,
            "grid_template_rows": null,
            "height": null,
            "justify_content": null,
            "justify_items": null,
            "left": null,
            "margin": null,
            "max_height": null,
            "max_width": null,
            "min_height": null,
            "min_width": null,
            "object_fit": null,
            "object_position": null,
            "order": null,
            "overflow": null,
            "overflow_x": null,
            "overflow_y": null,
            "padding": null,
            "right": null,
            "top": null,
            "visibility": null,
            "width": null
          }
        },
        "dd9f7a26c76541408c85a869dfac3492": {
          "model_module": "@jupyter-widgets/controls",
          "model_name": "ProgressStyleModel",
          "model_module_version": "1.5.0",
          "state": {
            "_model_module": "@jupyter-widgets/controls",
            "_model_module_version": "1.5.0",
            "_model_name": "ProgressStyleModel",
            "_view_count": null,
            "_view_module": "@jupyter-widgets/base",
            "_view_module_version": "1.2.0",
            "_view_name": "StyleView",
            "bar_color": null,
            "description_width": ""
          }
        },
        "da63db9ab53144f8980798a7cb58d711": {
          "model_module": "@jupyter-widgets/base",
          "model_name": "LayoutModel",
          "model_module_version": "1.2.0",
          "state": {
            "_model_module": "@jupyter-widgets/base",
            "_model_module_version": "1.2.0",
            "_model_name": "LayoutModel",
            "_view_count": null,
            "_view_module": "@jupyter-widgets/base",
            "_view_module_version": "1.2.0",
            "_view_name": "LayoutView",
            "align_content": null,
            "align_items": null,
            "align_self": null,
            "border": null,
            "bottom": null,
            "display": null,
            "flex": null,
            "flex_flow": null,
            "grid_area": null,
            "grid_auto_columns": null,
            "grid_auto_flow": null,
            "grid_auto_rows": null,
            "grid_column": null,
            "grid_gap": null,
            "grid_row": null,
            "grid_template_areas": null,
            "grid_template_columns": null,
            "grid_template_rows": null,
            "height": null,
            "justify_content": null,
            "justify_items": null,
            "left": null,
            "margin": null,
            "max_height": null,
            "max_width": null,
            "min_height": null,
            "min_width": null,
            "object_fit": null,
            "object_position": null,
            "order": null,
            "overflow": null,
            "overflow_x": null,
            "overflow_y": null,
            "padding": null,
            "right": null,
            "top": null,
            "visibility": null,
            "width": null
          }
        },
        "ef25d350ae684eb49eaa55dafdd1a5e9": {
          "model_module": "@jupyter-widgets/controls",
          "model_name": "DescriptionStyleModel",
          "model_module_version": "1.5.0",
          "state": {
            "_model_module": "@jupyter-widgets/controls",
            "_model_module_version": "1.5.0",
            "_model_name": "DescriptionStyleModel",
            "_view_count": null,
            "_view_module": "@jupyter-widgets/base",
            "_view_module_version": "1.2.0",
            "_view_name": "StyleView",
            "description_width": ""
          }
        },
        "87a6554a30ba4ec68cce57692e9f7cce": {
          "model_module": "@jupyter-widgets/controls",
          "model_name": "HBoxModel",
          "model_module_version": "1.5.0",
          "state": {
            "_dom_classes": [],
            "_model_module": "@jupyter-widgets/controls",
            "_model_module_version": "1.5.0",
            "_model_name": "HBoxModel",
            "_view_count": null,
            "_view_module": "@jupyter-widgets/controls",
            "_view_module_version": "1.5.0",
            "_view_name": "HBoxView",
            "box_style": "",
            "children": [
              "IPY_MODEL_fce9c4e519a84c2a91157dac24d75827",
              "IPY_MODEL_9127aea89f9c49d3b77d49def2150141",
              "IPY_MODEL_927b6748e7d74680aa42b1dacb05ebf0"
            ],
            "layout": "IPY_MODEL_b3aa18294c794ab996de03e3a9907f4d"
          }
        },
        "fce9c4e519a84c2a91157dac24d75827": {
          "model_module": "@jupyter-widgets/controls",
          "model_name": "HTMLModel",
          "model_module_version": "1.5.0",
          "state": {
            "_dom_classes": [],
            "_model_module": "@jupyter-widgets/controls",
            "_model_module_version": "1.5.0",
            "_model_name": "HTMLModel",
            "_view_count": null,
            "_view_module": "@jupyter-widgets/controls",
            "_view_module_version": "1.5.0",
            "_view_name": "HTMLView",
            "description": "",
            "description_tooltip": null,
            "layout": "IPY_MODEL_731cd806c3804719831fb091d2cea5e9",
            "placeholder": "​",
            "style": "IPY_MODEL_e6853cb5b149427c9930b3d3f03a3d1e",
            "value": "Generating embeddings: 100%"
          }
        },
        "9127aea89f9c49d3b77d49def2150141": {
          "model_module": "@jupyter-widgets/controls",
          "model_name": "FloatProgressModel",
          "model_module_version": "1.5.0",
          "state": {
            "_dom_classes": [],
            "_model_module": "@jupyter-widgets/controls",
            "_model_module_version": "1.5.0",
            "_model_name": "FloatProgressModel",
            "_view_count": null,
            "_view_module": "@jupyter-widgets/controls",
            "_view_module_version": "1.5.0",
            "_view_name": "ProgressView",
            "bar_style": "success",
            "description": "",
            "description_tooltip": null,
            "layout": "IPY_MODEL_19a56d736e89473997ecf10c5ec1a963",
            "max": 47,
            "min": 0,
            "orientation": "horizontal",
            "style": "IPY_MODEL_9b51022ee032475fa12189711c5336de",
            "value": 47
          }
        },
        "927b6748e7d74680aa42b1dacb05ebf0": {
          "model_module": "@jupyter-widgets/controls",
          "model_name": "HTMLModel",
          "model_module_version": "1.5.0",
          "state": {
            "_dom_classes": [],
            "_model_module": "@jupyter-widgets/controls",
            "_model_module_version": "1.5.0",
            "_model_name": "HTMLModel",
            "_view_count": null,
            "_view_module": "@jupyter-widgets/controls",
            "_view_module_version": "1.5.0",
            "_view_name": "HTMLView",
            "description": "",
            "description_tooltip": null,
            "layout": "IPY_MODEL_15eaba211c954eedbee91f00804dfd2f",
            "placeholder": "​",
            "style": "IPY_MODEL_f56bd3ec086d40f2b2c0049636a62abf",
            "value": " 47/47 [00:15&lt;00:00,  3.12it/s]"
          }
        },
        "b3aa18294c794ab996de03e3a9907f4d": {
          "model_module": "@jupyter-widgets/base",
          "model_name": "LayoutModel",
          "model_module_version": "1.2.0",
          "state": {
            "_model_module": "@jupyter-widgets/base",
            "_model_module_version": "1.2.0",
            "_model_name": "LayoutModel",
            "_view_count": null,
            "_view_module": "@jupyter-widgets/base",
            "_view_module_version": "1.2.0",
            "_view_name": "LayoutView",
            "align_content": null,
            "align_items": null,
            "align_self": null,
            "border": null,
            "bottom": null,
            "display": null,
            "flex": null,
            "flex_flow": null,
            "grid_area": null,
            "grid_auto_columns": null,
            "grid_auto_flow": null,
            "grid_auto_rows": null,
            "grid_column": null,
            "grid_gap": null,
            "grid_row": null,
            "grid_template_areas": null,
            "grid_template_columns": null,
            "grid_template_rows": null,
            "height": null,
            "justify_content": null,
            "justify_items": null,
            "left": null,
            "margin": null,
            "max_height": null,
            "max_width": null,
            "min_height": null,
            "min_width": null,
            "object_fit": null,
            "object_position": null,
            "order": null,
            "overflow": null,
            "overflow_x": null,
            "overflow_y": null,
            "padding": null,
            "right": null,
            "top": null,
            "visibility": null,
            "width": null
          }
        },
        "731cd806c3804719831fb091d2cea5e9": {
          "model_module": "@jupyter-widgets/base",
          "model_name": "LayoutModel",
          "model_module_version": "1.2.0",
          "state": {
            "_model_module": "@jupyter-widgets/base",
            "_model_module_version": "1.2.0",
            "_model_name": "LayoutModel",
            "_view_count": null,
            "_view_module": "@jupyter-widgets/base",
            "_view_module_version": "1.2.0",
            "_view_name": "LayoutView",
            "align_content": null,
            "align_items": null,
            "align_self": null,
            "border": null,
            "bottom": null,
            "display": null,
            "flex": null,
            "flex_flow": null,
            "grid_area": null,
            "grid_auto_columns": null,
            "grid_auto_flow": null,
            "grid_auto_rows": null,
            "grid_column": null,
            "grid_gap": null,
            "grid_row": null,
            "grid_template_areas": null,
            "grid_template_columns": null,
            "grid_template_rows": null,
            "height": null,
            "justify_content": null,
            "justify_items": null,
            "left": null,
            "margin": null,
            "max_height": null,
            "max_width": null,
            "min_height": null,
            "min_width": null,
            "object_fit": null,
            "object_position": null,
            "order": null,
            "overflow": null,
            "overflow_x": null,
            "overflow_y": null,
            "padding": null,
            "right": null,
            "top": null,
            "visibility": null,
            "width": null
          }
        },
        "e6853cb5b149427c9930b3d3f03a3d1e": {
          "model_module": "@jupyter-widgets/controls",
          "model_name": "DescriptionStyleModel",
          "model_module_version": "1.5.0",
          "state": {
            "_model_module": "@jupyter-widgets/controls",
            "_model_module_version": "1.5.0",
            "_model_name": "DescriptionStyleModel",
            "_view_count": null,
            "_view_module": "@jupyter-widgets/base",
            "_view_module_version": "1.2.0",
            "_view_name": "StyleView",
            "description_width": ""
          }
        },
        "19a56d736e89473997ecf10c5ec1a963": {
          "model_module": "@jupyter-widgets/base",
          "model_name": "LayoutModel",
          "model_module_version": "1.2.0",
          "state": {
            "_model_module": "@jupyter-widgets/base",
            "_model_module_version": "1.2.0",
            "_model_name": "LayoutModel",
            "_view_count": null,
            "_view_module": "@jupyter-widgets/base",
            "_view_module_version": "1.2.0",
            "_view_name": "LayoutView",
            "align_content": null,
            "align_items": null,
            "align_self": null,
            "border": null,
            "bottom": null,
            "display": null,
            "flex": null,
            "flex_flow": null,
            "grid_area": null,
            "grid_auto_columns": null,
            "grid_auto_flow": null,
            "grid_auto_rows": null,
            "grid_column": null,
            "grid_gap": null,
            "grid_row": null,
            "grid_template_areas": null,
            "grid_template_columns": null,
            "grid_template_rows": null,
            "height": null,
            "justify_content": null,
            "justify_items": null,
            "left": null,
            "margin": null,
            "max_height": null,
            "max_width": null,
            "min_height": null,
            "min_width": null,
            "object_fit": null,
            "object_position": null,
            "order": null,
            "overflow": null,
            "overflow_x": null,
            "overflow_y": null,
            "padding": null,
            "right": null,
            "top": null,
            "visibility": null,
            "width": null
          }
        },
        "9b51022ee032475fa12189711c5336de": {
          "model_module": "@jupyter-widgets/controls",
          "model_name": "ProgressStyleModel",
          "model_module_version": "1.5.0",
          "state": {
            "_model_module": "@jupyter-widgets/controls",
            "_model_module_version": "1.5.0",
            "_model_name": "ProgressStyleModel",
            "_view_count": null,
            "_view_module": "@jupyter-widgets/base",
            "_view_module_version": "1.2.0",
            "_view_name": "StyleView",
            "bar_color": null,
            "description_width": ""
          }
        },
        "15eaba211c954eedbee91f00804dfd2f": {
          "model_module": "@jupyter-widgets/base",
          "model_name": "LayoutModel",
          "model_module_version": "1.2.0",
          "state": {
            "_model_module": "@jupyter-widgets/base",
            "_model_module_version": "1.2.0",
            "_model_name": "LayoutModel",
            "_view_count": null,
            "_view_module": "@jupyter-widgets/base",
            "_view_module_version": "1.2.0",
            "_view_name": "LayoutView",
            "align_content": null,
            "align_items": null,
            "align_self": null,
            "border": null,
            "bottom": null,
            "display": null,
            "flex": null,
            "flex_flow": null,
            "grid_area": null,
            "grid_auto_columns": null,
            "grid_auto_flow": null,
            "grid_auto_rows": null,
            "grid_column": null,
            "grid_gap": null,
            "grid_row": null,
            "grid_template_areas": null,
            "grid_template_columns": null,
            "grid_template_rows": null,
            "height": null,
            "justify_content": null,
            "justify_items": null,
            "left": null,
            "margin": null,
            "max_height": null,
            "max_width": null,
            "min_height": null,
            "min_width": null,
            "object_fit": null,
            "object_position": null,
            "order": null,
            "overflow": null,
            "overflow_x": null,
            "overflow_y": null,
            "padding": null,
            "right": null,
            "top": null,
            "visibility": null,
            "width": null
          }
        },
        "f56bd3ec086d40f2b2c0049636a62abf": {
          "model_module": "@jupyter-widgets/controls",
          "model_name": "DescriptionStyleModel",
          "model_module_version": "1.5.0",
          "state": {
            "_model_module": "@jupyter-widgets/controls",
            "_model_module_version": "1.5.0",
            "_model_name": "DescriptionStyleModel",
            "_view_count": null,
            "_view_module": "@jupyter-widgets/base",
            "_view_module_version": "1.2.0",
            "_view_name": "StyleView",
            "description_width": ""
          }
        }
      }
    }
  },
  "cells": [
    {
      "cell_type": "markdown",
      "source": [
        "<div style=\"display: flex; justify-content: space-between; align-items: flex-start;\">\n",
        "    <div style=\"text-align: left;\">\n",
        "        <h4 style=\"color:#4B0082; font-weight: bold; text-align: left; margin-top: 6px;\">Emine Gülbahar Akay</h4>\n",
        "        <h4 style=\"color:#000000; font-weight: normal; text-align: left; margin-top: 6px;\">Data scientist who loves to draw insights using the power of data and is always ready to explore new horizons in the world of machine learning.</h4>\n",
        "        <p style=\"font-size: 17px; line-height: 1.7; color: #333; text-align: center; margin-top: 20px;\"></p>\n",
        "        <a href=\"https://www.linkedin.com/in/emine-gulbahar-akay/\" target=\"_blank\" style=\"display: inline-block; background-color: #003f88; color: #fff; text-decoration: none; padding: 5px 10px; border-radius: 10px; margin: 15px;\">LinkedIn</a>\n",
        "        <a href=\"https://github.com/bahar2790\" target=\"_blank\" style=\"display: inline-block; background-color: #8b8970; color: #fff; text-decoration: none; padding: 5px 10px; border-radius: 10px; margin: 15px; \">GitHub</a>\n",
        "        <a href=\"https://www.kaggle.com/baharakay\" target=\"_blank\" style=\"display: inline-block; background-color: #3a86ff; color: #fff; text-decoration: none; padding: 5px 10px; border-radius: 10px; margin: 15px;\">Kaggle</a>\n",
        "    </div>\n",
        "</div>"
      ],
      "metadata": {
        "id": "RelJPjjiRm0-"
      }
    },
    {
      "cell_type": "code",
      "execution_count": 4,
      "metadata": {
        "colab": {
          "base_uri": "https://localhost:8080/"
        },
        "id": "B-LEJH1NKi-8",
        "outputId": "6c53dca6-f866-44f8-ee97-d6af6b2afbac"
      },
      "outputs": [
        {
          "output_type": "stream",
          "name": "stdout",
          "text": [
            "\u001b[2K   \u001b[90m━━━━━━━━━━━━━━━━━━━━━━━━━━━━━━━━━━━━━━━━\u001b[0m \u001b[32m57.6/57.6 MB\u001b[0m \u001b[31m8.5 MB/s\u001b[0m eta \u001b[36m0:00:00\u001b[0m\n",
            "\u001b[2K   \u001b[90m━━━━━━━━━━━━━━━━━━━━━━━━━━━━━━━━━━━━━━━━\u001b[0m \u001b[32m321.4/321.4 kB\u001b[0m \u001b[31m16.3 MB/s\u001b[0m eta \u001b[36m0:00:00\u001b[0m\n",
            "\u001b[2K   \u001b[90m━━━━━━━━━━━━━━━━━━━━━━━━━━━━━━━━━━━━━━━━\u001b[0m \u001b[32m12.4/12.4 MB\u001b[0m \u001b[31m79.9 MB/s\u001b[0m eta \u001b[36m0:00:00\u001b[0m\n",
            "\u001b[?25h"
          ]
        }
      ],
      "source": [
        "# Proje için gerekli olan kütüphaneleri yüklüyoruz ve mevcutsa güncelliyoruz.\n",
        "# - autollm: Otomatik LLM oluşturma araçlarını sağlar.\n",
        "# - gradio: Web tabanlı arayüzler oluşturmak için kullanılır.\n",
        "# - gitpython: Git işlemlerini Python üzerinden yapmak için kullanılır.\n",
        "# - nbconvert: Jupyter Notebook dosyalarını farklı formatlara dönüştürmek için kullanılır.\n",
        "!pip install autollm gradio gitpython nbconvert -Uqq\n",
        "\n"
      ]
    },
    {
      "cell_type": "code",
      "source": [
        "# AutoLLM kütüphanesinden AutoQueryEngine sınıfını içe aktarıyoruz.\n",
        "# Bu sınıf, otomatik sorgu motoru oluşturmak için kullanılacak.\n",
        "from autollm import AutoQueryEngine\n",
        "\n",
        "# AutoLLM'nin yardımcı işlevlerinden GitHub deposu ve dosyaları doküman olarak okuma işlevlerini içe aktarıyoruz.\n",
        "from autollm.utils.document_reading import read_github_repo_as_documents, read_files_as_documents\n",
        "\n",
        "# İşletim sistemiyle ilgili işlemler (örn. dosya yollarını yönetmek) için os modülünü içe aktarıyoruz.\n",
        "import os\n",
        "\n",
        "# Gradio kütüphanesini içe aktarıyoruz.\n",
        "# Bu kütüphane, makine öğrenimi modelleri için web tabanlı kullanıcı arayüzleri oluşturmakta kullanılır.\n",
        "import gr\n"
      ],
      "metadata": {
        "id": "avy_Be7MNQVo"
      },
      "execution_count": 5,
      "outputs": []
    },
    {
      "cell_type": "code",
      "source": [
        "# Google Colab'den kullanıcı verilerini içe aktarıyoruz.\n",
        "# Bu, kullanıcıya özel bilgileri (örneğin API anahtarı) almak için kullanılır.\n",
        "from google.colab import userdata\n",
        "\n",
        "# Kullanıcının OpenAI API anahtarını alıyoruz ve çevre değişkeni olarak ayarlıyoruz.\n",
        "# Bu, API çağrılarında kimlik doğrulama için gereklidir.\n",
        "os.environ[\"OPENAI_API_KEY\"] = userdata.get('OPENAI_API_KEY')\n"
      ],
      "metadata": {
        "id": "mFfvQazLKzo_"
      },
      "execution_count": 6,
      "outputs": []
    },
    {
      "cell_type": "code",
      "source": [
        "# İşlenecek GitHub deposunun URL'sini belirliyoruz.\n",
        "# Bu depo, hedef dokümanları okuyup işlememiz için kullanılacak.\n",
        "git_repo_url = \"https://github.com/langchain-ai/langchain.git\"\n",
        "\n",
        "# Yalnızca belirli dosya uzantılarını işlemeye karar veriyoruz.\n",
        "# Burada, yalnızca \".md\" (Markdown) dosyaları işlenecek.\n",
        "required_exts = [\".md\"]\n"
      ],
      "metadata": {
        "id": "bYCHkcVTK9fx"
      },
      "execution_count": 7,
      "outputs": []
    },
    {
      "cell_type": "code",
      "source": [
        "\n",
        "# Belirttiğimiz GitHub deposundan dokümanları okuyoruz.\n",
        "# - git_repo_url: İşlenecek GitHub deposunun URL'si.\n",
        "# - relative_folder_path: Depodaki hedef klasör. Burada \"docs\" klasörü hedefleniyor.\n",
        "# - required_exts: Sadece \".md\" uzantılı dosyaları okuyacak şekilde filtreleme yapıyoruz.\n",
        "# Sonuç olarak, okunan dokümanlar `documents` değişkenine atanıyor.\n",
        "documents = read_github_repo_as_documents(\n",
        "    git_repo_url=git_repo_url,\n",
        "    relative_folder_path=\"docs\",\n",
        "    required_exts=required_exts\n",
        ")\n"
      ],
      "metadata": {
        "colab": {
          "base_uri": "https://localhost:8080/"
        },
        "id": "addYG--8LBZR",
        "outputId": "1ac8384a-172f-48e3-88d8-1c9669f8ea5c"
      },
      "execution_count": 10,
      "outputs": [
        {
          "output_type": "stream",
          "name": "stderr",
          "text": [
            "2025-01-22 13:31:57,304 - autollm - INFO - Cloning github repo https://github.com/langchain-ai/langchain.git into temporary directory autollm/temp..\n",
            "2025-01-22 13:32:27,550 - autollm - INFO - Reading files from autollm/temp/docs..\n",
            "Loading files: 100%|██████████| 24/24 [00:00<00:00, 2092.84file/s]\n",
            "2025-01-22 13:32:27,569 - autollm - INFO - Found 24 'document(s)'.\n",
            "2025-01-22 13:32:27,573 - autollm - INFO - Operations complete, deleting temporary directory autollm/temp..\n"
          ]
        }
      ]
    },
    {
      "cell_type": "code",
      "source": [
        "# Okunan dokümanları kullanarak bir AutoQueryEngine örneği oluşturuyoruz.\n",
        "# - `AutoQueryEngine.from_defaults`: Varsayılan ayarlarla bir sorgu motoru oluşturur.\n",
        "# - `documents`: İşlenecek dokümanları sorgu motoruna sağlıyoruz.\n",
        "# Bu sorgu motoru, dokümanlardan anlamlı bilgiler çıkarmak için kullanılacak.\n",
        "query_engine = AutoQueryEngine.from_defaults(documents=documents)\n",
        "\n"
      ],
      "metadata": {
        "colab": {
          "base_uri": "https://localhost:8080/",
          "height": 203,
          "referenced_widgets": [
            "87830725595b4c23816349c5934037ca",
            "3b90904e1ff54ddaa7fd5e2fdb13a292",
            "97b7b9bb3ad04329b8c40657a972f14e",
            "b3053e2aa25543d1bbf28634e1bb6d48",
            "2e23feff652e47f5a47f6c5409dfed49",
            "d347d347d09c4fe3a08b02fca683f15d",
            "ce3c250e93a34b60aacb6a933f95400f",
            "ec7e924fe06b4134bb9936c40cec0c27",
            "6fd82251fff24a53b6da64f3c1880aad",
            "838f2e0e164c4879b22e141307d9e377",
            "72ccd9e392a8465db543c74dfc7a9f1d",
            "f73fa534b6ea49c492cb91c190c87c59",
            "290b1585efe64d519b6cce7d098e02c6",
            "db836e4e92164b8aa7eb8829814210e0",
            "1410281de11144f5ae7b96e689be4974",
            "c02489e3737d4d2f87ad03ac9d6a7b64",
            "aab4565ae2ce444db33bc8f8081bf136",
            "ef3fb1be2e014f1497eefe910d5ad9e8",
            "6a3681d092974aa3a9f2a97b18518308",
            "32e2de6695144fb8a2fe3654c6a45335",
            "b12f1fd49ccc4025bcbf7605d4d69beb",
            "d196375176e84a38a0316d137a6628f9"
          ]
        },
        "id": "Fu9epvgvLOPn",
        "outputId": "20f71f26-d9ad-44c2-c957-6bb8591a1c5e"
      },
      "execution_count": 11,
      "outputs": [
        {
          "output_type": "stream",
          "name": "stderr",
          "text": [
            "2025-01-22 13:32:34,705 - autollm - WARNING - use_async is only supported for SimpleVectorStore. Ignoring use_async.\n"
          ]
        },
        {
          "output_type": "display_data",
          "data": {
            "text/plain": [
              "Parsing nodes:   0%|          | 0/24 [00:00<?, ?it/s]"
            ],
            "application/vnd.jupyter.widget-view+json": {
              "version_major": 2,
              "version_minor": 0,
              "model_id": "87830725595b4c23816349c5934037ca"
            }
          },
          "metadata": {}
        },
        {
          "output_type": "display_data",
          "data": {
            "text/plain": [
              "Generating embeddings:   0%|          | 0/47 [00:00<?, ?it/s]"
            ],
            "application/vnd.jupyter.widget-view+json": {
              "version_major": 2,
              "version_minor": 0,
              "model_id": "f73fa534b6ea49c492cb91c190c87c59"
            }
          },
          "metadata": {}
        },
        {
          "output_type": "stream",
          "name": "stderr",
          "text": [
            "2025-01-22 13:32:40,364 - autollm - INFO - Embedding Token Usage: 3224\n",
            "2025-01-22 13:32:44,086 - autollm - INFO - Embedding Token Usage: 3013\n",
            "2025-01-22 13:32:47,381 - autollm - INFO - Embedding Token Usage: 4049\n",
            "2025-01-22 13:32:50,908 - autollm - INFO - Embedding Token Usage: 4610\n",
            "2025-01-22 13:32:53,628 - autollm - INFO - Embedding Token Usage: 1892\n"
          ]
        }
      ]
    },
    {
      "cell_type": "code",
      "source": [
        "# Yapay zeka asistanı için genel bir sistem talimatı tanımlıyoruz.\n",
        "# Bu talimat, AI'nın kullanıcıların sorularına doğru ve alakalı yanıtlar bulmasına yardımcı olmak için nasıl davranması gerektiğini açıklar.\n",
        "system_prompt = \"You are an AI assistant that helps users find the most relevant and accurate answers to their questions.\"\n",
        "\n",
        "# AI'nın bir sorguya nasıl yanıt vereceğini belirlemek için kullanılan bir sorgu sarmalayıcı şablonu oluşturuyoruz.\n",
        "# - {context_str}: Dokümanlardan alınan bağlamsal bilgi burada yer alacak.\n",
        "# - {query_str}: Kullanıcının sorgusu.\n",
        "# Bu şablon, AI'nın cevaplarını büyük ölçüde doküman bilgisine dayandırmasını sağlar.\n",
        "query_wrapper_prompt = \"\"\"\n",
        "The document information is below.\n",
        "-------------------------------\n",
        "{context_str}\n",
        "-------------------------------\n",
        "Using the document information and mostly relying on it,\n",
        "answer the query.\n",
        "Query: {query_str}\n",
        "Answer:\n",
        "\"\"\"\n"
      ],
      "metadata": {
        "id": "iO0nAvPsL4mR"
      },
      "execution_count": 12,
      "outputs": []
    },
    {
      "cell_type": "code",
      "source": [
        "# Maliyet hesaplayıcıyı etkinleştiriyoruz.\n",
        "# Bu, sorguların işlenmesi sırasında tahmini maliyetin hesaplanmasını sağlar.\n",
        "# Örneğin, API çağrılarında kullanılan kaynaklar için maliyet izlenebilir.\n",
        "enable_cost_calculator = True\n"
      ],
      "metadata": {
        "id": "IAkcpUqxN7ii"
      },
      "execution_count": 13,
      "outputs": []
    },
    {
      "cell_type": "code",
      "source": [
        "# Kullanılacak dil modelini belirtiyoruz.\n",
        "# \"gpt-4o-mini\", görevler için optimize edilmiş, daha küçük bir GPT-4 versiyonunu ifade eder.\n",
        "# Bu model, hızlı ve verimli yanıtlar sağlamak için seçilmiş olabilir.\n",
        "model = \"gpt-4o-mini\"\n"
      ],
      "metadata": {
        "id": "lp_VD-VcN981"
      },
      "execution_count": 14,
      "outputs": []
    },
    {
      "cell_type": "code",
      "source": [
        "# Kullanılacak vektör depolama türünü belirtiyoruz.\n",
        "# \"LanceDBVectorStore\", verilerin vektör formatında depolanmasını ve hızlı erişimini sağlayan bir depolama yöntemidir.\n",
        "# Bu, dokümanlardan alınan bilgilerin etkili bir şekilde sorgulanması için gereklidir.\n",
        "vector_store_type = \"LanceDBVectorStore\"\n"
      ],
      "metadata": {
        "id": "I9TlGTAyPG8I"
      },
      "execution_count": 15,
      "outputs": []
    },
    {
      "cell_type": "code",
      "source": [
        "# Vektör veritabanının URI'sini (konumunu) belirtiyoruz.\n",
        "# \"tmp/lancedb\", geçici bir dizinde LanceDB veritabanının saklanacağını ifade eder.\n",
        "uri = \"tmp/lancedb\"\n",
        "\n",
        "# Vektörlerin depolanacağı tablo adını belirtiyoruz.\n",
        "# Bu tablo, vektörleştirilmiş dokümanların bilgilerini saklayacak.\n",
        "table_name = \"vectors\"\n"
      ],
      "metadata": {
        "id": "1kTYFbubPJQ0"
      },
      "execution_count": 16,
      "outputs": []
    },
    {
      "cell_type": "code",
      "source": [
        "# Dokümanların vektörleştirilmeden önce işlenecek parçalara bölünme boyutunu belirliyoruz.\n",
        "# \"chunk_size = 1024\", her bir doküman parçasının maksimum 1024 karakter uzunluğunda olacağını ifade eder.\n",
        "# Bu, dokümanların daha verimli bir şekilde işlenmesine ve sorgulanmasına olanak tanır.\n",
        "chunk_size = 1024\n"
      ],
      "metadata": {
        "id": "YVz5Xzx3PLhb"
      },
      "execution_count": 17,
      "outputs": []
    },
    {
      "cell_type": "code",
      "source": [
        "\n",
        "# Bir sorguya en yakın eşleşen vektörlerden kaç tanesinin döndürüleceğini belirtiyoruz.\n",
        "# \"similarity_top_k = 5\", en benzer 5 vektörün seçileceğini ifade eder.\n",
        "# Bu, sorguya en uygun sonuçları döndürmek için kullanılır.\n",
        "similarity_top_k = 5\n"
      ],
      "metadata": {
        "id": "Fgr-ndc7PNiv"
      },
      "execution_count": 18,
      "outputs": []
    },
    {
      "cell_type": "code",
      "source": [
        "\n",
        "# Dil modeli için gerekli parametreleri tanımlıyoruz.\n",
        "# - \"model\": Kullanılacak dil modelinin adı (burada \"gpt-4o-mini\").\n",
        "# Bu parametre, LLM (Large Language Model) yapılandırmasında kullanılacak.\n",
        "llm_params = {\"model\": model}\n"
      ],
      "metadata": {
        "id": "VEYG0R8dPftA"
      },
      "execution_count": 19,
      "outputs": []
    },
    {
      "cell_type": "code",
      "source": [
        "# Vektör depolama işlemi için gerekli parametreleri tanımlıyoruz.\n",
        "# - \"vector_store_type\": Kullanılacak vektör depolama türü (burada \"LanceDBVectorStore\").\n",
        "# - \"uri\": Vektör veritabanının saklanacağı konum (burada \"tmp/lancedb\").\n",
        "# - \"table_name\": Vektörlerin depolanacağı tablonun adı (burada \"vectors\").\n",
        "# Bu parametreler, dokümanların vektör formatında depolanmasını yapılandırmak için kullanılır.\n",
        "vector_store_params = {\n",
        "    \"vector_store_type\": vector_store_type,\n",
        "    \"uri\": uri,\n",
        "    \"table_name\": table_name\n",
        "}\n"
      ],
      "metadata": {
        "id": "y3qu0jSePhwP"
      },
      "execution_count": 20,
      "outputs": []
    },
    {
      "cell_type": "code",
      "source": [
        "\n",
        "# Hizmet bağlamı için gerekli parametreleri tanımlıyoruz.\n",
        "# - \"chunk_size\": Dokümanların bölüneceği maksimum parça boyutu (burada 1024 karakter).\n",
        "# Bu parametre, dokümanların parçalara ayrılarak işlenmesini yapılandırır.\n",
        "service_context_params = {\"chunk_size\": chunk_size}\n"
      ],
      "metadata": {
        "id": "tkOOtRhpPj9L"
      },
      "execution_count": 22,
      "outputs": []
    },
    {
      "cell_type": "code",
      "source": [
        "# Sorgu motoru için gerekli parametreleri tanımlıyoruz.\n",
        "# - \"similarity_top_k\": Bir sorguya en yakın eşleşen vektörlerden döndürülecek maksimum sayı (burada 5).\n",
        "# Bu parametre, sorgu motorunun en uygun sonuçları döndürmesi için kullanılır.\n",
        "query_engine_params = {\"similarity_top_k\": similarity_top_k}\n"
      ],
      "metadata": {
        "id": "X_18iBTkPl9N"
      },
      "execution_count": 23,
      "outputs": []
    },
    {
      "cell_type": "code",
      "source": [
        "# Özelleştirilmiş ayarlarla yeni bir AutoQueryEngine örneği oluşturuyoruz.\n",
        "# - `documents`: İşlenecek dokümanları sağlıyoruz.\n",
        "# - `system_prompt`: Yapay zeka asistanının genel davranışını tanımlayan talimat.\n",
        "# - `query_wrapper_prompt`: Sorguların nasıl yanıtlanacağını belirten şablon.\n",
        "# - `enable_cost_calculator`: Maliyet hesaplayıcıyı etkinleştiriyoruz.\n",
        "# - `llm_params`: Dil modeli parametreleri, burada kullanılan model \"gpt-4o-mini\".\n",
        "# - `vector_store_params`: Vektör depolama yapılandırması.\n",
        "# - `service_context_params`: Dokümanların işlenmesi için hizmet bağlamı parametreleri.\n",
        "# - `query_engine_params`: Sorgu motoru parametreleri (ör. similarity_top_k).\n",
        "\n",
        "query_engine_new = AutoQueryEngine.from_defaults(\n",
        "    documents=documents,\n",
        "    system_prompt=system_prompt,\n",
        "    query_wrapper_prompt=query_wrapper_prompt,\n",
        "    enable_cost_calculator=enable_cost_calculator,\n",
        "    llm_params=llm_params,\n",
        "    vector_store_params=vector_store_params,\n",
        "    service_context_params=service_context_params,\n",
        "    query_engine_params=query_engine_params\n",
        ")\n",
        "\n",
        ""
      ],
      "metadata": {
        "colab": {
          "base_uri": "https://localhost:8080/",
          "height": 237,
          "referenced_widgets": [
            "dc33dc7c28be44c8851072674b1299ba",
            "52fd3d79fc074eb081307d87d7e4a5a1",
            "b9ea87b3b48b4e3da07ca043b8fb99ac",
            "f842d11edccd4332980d2acf9a169709",
            "af2a5cecc7b945ae90a3247df0d469e5",
            "379ba5ef90554cc3a8a44d17346abe58",
            "f1e1e842278c4d6e8e3c08f758e364cc",
            "11df008084254f5fb6f5cff6ad26605c",
            "dd9f7a26c76541408c85a869dfac3492",
            "da63db9ab53144f8980798a7cb58d711",
            "ef25d350ae684eb49eaa55dafdd1a5e9",
            "87a6554a30ba4ec68cce57692e9f7cce",
            "fce9c4e519a84c2a91157dac24d75827",
            "9127aea89f9c49d3b77d49def2150141",
            "927b6748e7d74680aa42b1dacb05ebf0",
            "b3aa18294c794ab996de03e3a9907f4d",
            "731cd806c3804719831fb091d2cea5e9",
            "e6853cb5b149427c9930b3d3f03a3d1e",
            "19a56d736e89473997ecf10c5ec1a963",
            "9b51022ee032475fa12189711c5336de",
            "15eaba211c954eedbee91f00804dfd2f",
            "f56bd3ec086d40f2b2c0049636a62abf"
          ]
        },
        "id": "PfxNYDtqPvIP",
        "outputId": "33b4adcf-a961-4e75-c9ec-aed6cd479472"
      },
      "execution_count": 25,
      "outputs": [
        {
          "output_type": "stream",
          "name": "stderr",
          "text": [
            "2025-01-22 13:43:21,418 - autollm - WARNING - use_async is only supported for SimpleVectorStore. Ignoring use_async.\n",
            "2025-01-22 13:43:21,420 - autollm - INFO - Existing database found. Creating a new database at ./.lancedb_1.\n",
            "2025-01-22 13:43:21,422 - autollm - INFO - Please use exist_ok=True to add to the existing database and overwrite_existing=True to overwrite the existing database.\n"
          ]
        },
        {
          "output_type": "display_data",
          "data": {
            "text/plain": [
              "Parsing nodes:   0%|          | 0/24 [00:00<?, ?it/s]"
            ],
            "application/vnd.jupyter.widget-view+json": {
              "version_major": 2,
              "version_minor": 0,
              "model_id": "dc33dc7c28be44c8851072674b1299ba"
            }
          },
          "metadata": {}
        },
        {
          "output_type": "display_data",
          "data": {
            "text/plain": [
              "Generating embeddings:   0%|          | 0/47 [00:00<?, ?it/s]"
            ],
            "application/vnd.jupyter.widget-view+json": {
              "version_major": 2,
              "version_minor": 0,
              "model_id": "87a6554a30ba4ec68cce57692e9f7cce"
            }
          },
          "metadata": {}
        },
        {
          "output_type": "stream",
          "name": "stderr",
          "text": [
            "2025-01-22 13:43:24,926 - autollm - INFO - Embedding Token Usage: 3224\n",
            "2025-01-22 13:43:28,055 - autollm - INFO - Embedding Token Usage: 3013\n",
            "2025-01-22 13:43:31,469 - autollm - INFO - Embedding Token Usage: 4049\n",
            "2025-01-22 13:43:34,436 - autollm - INFO - Embedding Token Usage: 4610\n",
            "2025-01-22 13:43:36,731 - autollm - INFO - Embedding Token Usage: 1892\n"
          ]
        }
      ]
    },
    {
      "cell_type": "code",
      "source": [
        "# Sorgu motorunu kullanarak bir soruya yanıt alıyoruz.\n",
        "# - `query_engine_new.query`: Sorguyu işleyen ve doküman bilgisine dayalı bir yanıt döndüren yöntem.\n",
        "# - Soru: \"What do we mean by Chain in Langchain?\" (Langchain'deki \"Zincir\" ne anlama gelir?)\n",
        "# Yanıt, dokümanlardan alınan bilgilere dayanarak oluşturulur ve `response` değişkeninde saklanır.\n",
        "response = query_engine_new.query(\"What do we mean by Chain in Langchain?\")\n"
      ],
      "metadata": {
        "colab": {
          "base_uri": "https://localhost:8080/"
        },
        "id": "uLP3gldyPyoF",
        "outputId": "8f8e286a-01c2-43f5-e47d-294d280cf960"
      },
      "execution_count": 26,
      "outputs": [
        {
          "output_type": "stream",
          "name": "stderr",
          "text": [
            "2025-01-22 13:43:40,170 - autollm - INFO - Embedding Token Usage: 10\n",
            "2025-01-22 13:43:41,482 - autollm - INFO - LLM Prompt Token Usage: 3\n",
            "2025-01-22 13:43:41,485 - autollm - INFO - LLM Completion Token Usage: 3\n",
            "2025-01-22 13:43:41,489 - autollm - INFO - LLM Latest Token Cost: $0.0000\n",
            "2025-01-22 13:43:41,490 - autollm - INFO - LLM Total Token Cost: $0.0000\n"
          ]
        }
      ]
    },
    {
      "cell_type": "code",
      "source": [
        "\n",
        "# Sorgu motorunun verdiği yanıtı görüntülüyoruz.\n",
        "# `response`, sorgu sonucunda oluşturulan yanıtı içerir.\n",
        "# Bu yanıt, dokümanlardan alınan bilgilere dayanarak oluşturulmuştur.\n",
        "response\n"
      ],
      "metadata": {
        "colab": {
          "base_uri": "https://localhost:8080/"
        },
        "id": "yHeUs_LgQRwg",
        "outputId": "30c3e3dc-cc8d-4e7f-9eed-0903e35c7726"
      },
      "execution_count": 27,
      "outputs": [
        {
          "output_type": "execute_result",
          "data": {
            "text/plain": [
              "Response(response='In Langchain, a \"Chain\" refers to a sequence of tools or agents that are connected together to perform a specific task or workflow. These chains can include various components such as AI models, data processing tools, and other functionalities that work together to achieve a desired outcome. Chains in Langchain enable users to create complex workflows by linking different tools and agents in a structured manner to streamline processes and enhance productivity.', source_nodes=[NodeWithScore(node=TextNode(id_='0d39fc6d-d93a-469f-bbdd-7c791bc74b9d', embedding=None, metadata={}, excluded_embed_metadata_keys=[], excluded_llm_metadata_keys=[], relationships={<NodeRelationship.SOURCE: '1'>: RelatedNodeInfo(node_id='autollm/temp/docs/README.md_part_0', node_type=None, metadata={}, hash=None)}, hash='f80e4e0d114fd6c5489eab0793776d4447c85337265048b6f0c2dbef060b1616', text='# LangChain Documentation\\n\\nFor more information on contributing to our documentation, see the Documentation Contributing Guide', start_char_idx=None, end_char_idx=None, text_template='{metadata_str}\\n\\n{content}', metadata_template='{key}: {value}', metadata_seperator='\\n'), score=0.6625553965568542), NodeWithScore(node=TextNode(id_='d85f92bb-b2ac-491e-8921-74c829f6114d', embedding=None, metadata={}, excluded_embed_metadata_keys=[], excluded_llm_metadata_keys=[], relationships={<NodeRelationship.SOURCE: '1'>: RelatedNodeInfo(node_id='autollm/temp/docs/docs/how_to/pydantic_compatibility.md_part_0', node_type=None, metadata={}, hash=None)}, hash='27d57e0c5a47b27022d88ac269eda10b6e3bc454294fc0caccb2ee48158df864', text=\"# How to use LangChain with different Pydantic versions\\n\\nAs of the `0.3` release, LangChain uses Pydantic 2 internally. \\n\\nUsers should install Pydantic 2 and are advised to **avoid** using the `pydantic.v1` namespace of Pydantic 2 with\\nLangChain APIs.\\n\\nIf you're working with prior versions of LangChain, please see the following guide\\non Pydantic compatibility.\", start_char_idx=None, end_char_idx=None, text_template='{metadata_str}\\n\\n{content}', metadata_template='{key}: {value}', metadata_seperator='\\n'), score=0.6334732174873352), NodeWithScore(node=TextNode(id_='fe45c39b-27d6-4bc4-ad3c-12c1ea1049bf', embedding=None, metadata={}, excluded_embed_metadata_keys=[], excluded_llm_metadata_keys=[], relationships={<NodeRelationship.SOURCE: '1'>: RelatedNodeInfo(node_id='autollm/temp/docs/docs/integrations/providers/portkey/index.md_part_0', node_type=None, metadata={}, hash=None)}, hash='34fc756c58988e580c88acb773bfde009cadd5c439e3bdf1faf0bca6d7c9542b', text='```\\n\\nThe Portkey AI gateway will authenticate the API request to Anthropic and get the response back in the OpenAI format for you to consume.\\n\\nThe AI gateway extends Langchain\\'s `ChatOpenAI` class making it a single interface to call any provider and any model.\\n\\n## Advanced Routing - Load Balancing, Fallbacks, Retries\\nThe Portkey AI Gateway brings capabilities like load-balancing, fallbacks, experimentation and canary testing to Langchain through a configuration-first approach.\\n\\nLet\\'s take an **example** where we might want to split traffic between `gpt-4` and `claude-opus` 50:50 to test the two large models. The gateway configuration for this would look like the following:\\n\\n```python\\nconfig = {\\n    \"strategy\": {\\n         \"mode\": \"loadbalance\"\\n    },\\n    \"targets\": [{\\n        \"virtual_key\": \"openai-25654\", # OpenAI\\'s virtual key\\n        \"override_params\": {\"model\": \"gpt4\"},\\n        \"weight\": 0.5\\n    }, {\\n        \"virtual_key\": \"anthropic-25654\", # Anthropic\\'s virtual key\\n        \"override_params\": {\"model\": \"claude-3-opus-20240229\"},\\n        \"weight\": 0.5\\n    }]\\n}\\n```\\n\\nWe can then use this config in our requests being made from langchain.\\n\\n```python\\nportkey_headers = createHeaders(\\n    api_key=PORTKEY_API_KEY,\\n    config=config\\n)\\n\\nllm = ChatOpenAI(api_key=\"X\", base_url=PORTKEY_GATEWAY_URL, default_headers=portkey_headers)\\n\\nllm.invoke(\"What is the meaning of life, universe and everything?\")\\n```\\n\\nWhen the LLM is invoked, Portkey will distribute the requests to `gpt-4` and `claude-3-opus-20240229` in the ratio of the defined weights.\\n\\nYou can find more config examples here.\\n\\n## **Tracing Chains & Agents**\\n\\nPortkey\\'s Langchain integration gives you full visibility into the running of an agent. Let\\'s take an example of a popular agentic workflow.\\n\\nWe only need to modify the `ChatOpenAI` class to use the AI Gateway as above.', start_char_idx=None, end_char_idx=None, text_template='{metadata_str}\\n\\n{content}', metadata_template='{key}: {value}', metadata_seperator='\\n'), score=0.6079348921775818), NodeWithScore(node=TextNode(id_='7f75276e-507d-45d5-a3c3-50ab49ea41b9', embedding=None, metadata={}, excluded_embed_metadata_keys=[], excluded_llm_metadata_keys=[], relationships={<NodeRelationship.SOURCE: '1'>: RelatedNodeInfo(node_id='autollm/temp/docs/docs/integrations/providers/portkey/index.md_part_0', node_type=None, metadata={}, hash=None)}, hash='7bf325203c4ca9baecacea4244de97835c15ac9579170394de5d40fae396213b', text='```python\\nportkey_headers = createHeaders(\\n    api_key=PORTKEY_API_KEY,\\n    config=config\\n)\\n\\nllm = ChatOpenAI(api_key=\"X\", base_url=PORTKEY_GATEWAY_URL, default_headers=portkey_headers)\\n\\nllm.invoke(\"What is the meaning of life, universe and everything?\")\\n```\\n\\nWhen the LLM is invoked, Portkey will distribute the requests to `gpt-4` and `claude-3-opus-20240229` in the ratio of the defined weights.\\n\\nYou can find more config examples here.\\n\\n## **Tracing Chains & Agents**\\n\\nPortkey\\'s Langchain integration gives you full visibility into the running of an agent. Let\\'s take an example of a popular agentic workflow.\\n\\nWe only need to modify the `ChatOpenAI` class to use the AI Gateway as above.\\n\\n```python\\nfrom langchain import hub  \\nfrom langchain.agents import AgentExecutor, create_openai_tools_agent  \\nfrom langchain_openai import ChatOpenAI\\nfrom langchain_core.tools import tool\\nfrom portkey_ai import PORTKEY_GATEWAY_URL, createHeaders\\n \\nprompt = hub.pull(\"hwchase17/openai-tools-agent\")\\n\\nportkey_headers = createHeaders(\\n    api_key=PORTKEY_API_KEY,\\n    virtual_key=OPENAI_VIRTUAL_KEY,\\n    trace_id=\"uuid-uuid-uuid-uuid\"\\n)\\n\\n@tool\\ndef multiply(first_int: int, second_int: int) -> int:\\n    \"\"\"Multiply two integers together.\"\"\"\\n    return first_int * second_int\\n  \\n  \\n@tool  \\ndef exponentiate(base: int, exponent: int) -> int:  \\n    \"Exponentiate the base to the exponent power.\"', start_char_idx=None, end_char_idx=None, text_template='{metadata_str}\\n\\n{content}', metadata_template='{key}: {value}', metadata_seperator='\\n'), score=0.6063792705535889), NodeWithScore(node=TextNode(id_='c9d608b5-23c4-45ea-9e3f-ef555dd72395', embedding=None, metadata={}, excluded_embed_metadata_keys=[], excluded_llm_metadata_keys=[], relationships={<NodeRelationship.SOURCE: '1'>: RelatedNodeInfo(node_id='autollm/temp/docs/docs/integrations/providers/portkey/index.md_part_0', node_type=None, metadata={}, hash=None)}, hash='8c20fdb0e4c0c91e063b2892aa4a00f72c8a914bdabcb3d08b400b85a432b581', text='# Portkey\\n\\nPortkey is the Control Panel for AI apps. With it\\'s popular AI Gateway and Observability Suite, hundreds of teams ship **reliable**, **cost-efficient**, and **fast** apps.\\n\\n## LLMOps for Langchain\\n\\nPortkey brings production readiness to Langchain. With Portkey, you can \\n- [x] Connect to 150+ models through a unified API,\\n- [x] View 42+ **metrics & logs** for all requests, \\n- [x] Enable **semantic cache** to reduce latency & costs, \\n- [x] Implement automatic **retries & fallbacks** for failed requests, \\n- x] Add **custom tags** to requests for better tracking and analysis and [more.\\n\\n\\n## Quickstart - Portkey & Langchain\\nSince Portkey is fully compatible with the OpenAI signature, you can connect to the Portkey AI Gateway through the `ChatOpenAI` interface.\\n\\n- Set the `base_url` as `PORTKEY_GATEWAY_URL`\\n- Add `default_headers` to consume the headers needed by Portkey using the `createHeaders` helper method.\\n\\nTo start, get your Portkey API key by signing up here. (Click the profile icon on the bottom left, then click on \"Copy API Key\") or deploy the open source AI gateway in your own environment.\\n\\nNext, install the Portkey SDK\\n```python\\npip install -U portkey_ai\\n```\\n\\nWe can now connect to the Portkey AI Gateway by updating the `ChatOpenAI` model in Langchain\\n```python\\nfrom langchain_openai import ChatOpenAI\\nfrom portkey_ai import createHeaders, PORTKEY_GATEWAY_URL\\n\\nPORTKEY_API_KEY = \"...\" # Not needed when hosting your own gateway\\nPROVIDER_API_KEY = \"...\" # Add the API key of the AI provider being used \\n\\nportkey_headers = createHeaders(api_key=PORTKEY_API_KEY,provider=\"openai\")\\n\\nllm = ChatOpenAI(api_key=PROVIDER_API_KEY, base_url=PORTKEY_GATEWAY_URL, default_headers=portkey_headers)\\n\\nllm.invoke(\"What is the meaning of life, universe and everything?\")\\n```\\n\\nThe request is routed through your Portkey AI Gateway to the specified `provider`. Portkey will also start logging all the requests in your account that makes debugging extremely simple.', start_char_idx=None, end_char_idx=None, text_template='{metadata_str}\\n\\n{content}', metadata_template='{key}: {value}', metadata_seperator='\\n'), score=0.5980753898620605), NodeWithScore(node=TextNode(id_='d7694213-3e2b-4fca-b9a9-a54fa592696c', embedding=None, metadata={}, excluded_embed_metadata_keys=[], excluded_llm_metadata_keys=[], relationships={<NodeRelationship.SOURCE: '1'>: RelatedNodeInfo(node_id='autollm/temp/docs/docs/integrations/providers/databricks.md_part_0', node_type=None, metadata={}, hash=None)}, hash='92fe56f3794cdbeb7631382957e2f4459f98709e37a4f35c01431632d4c53ce1', text=\"Databricks\\n==========\\n\\n> Databricks Intelligence Platform is the world's first data intelligence platform powered by generative AI. Infuse AI into every facet of your business.\\n\\nDatabricks embraces the LangChain ecosystem in various ways:\\n\\n1. 🚀 **Model Serving** - Access state-of-the-art LLMs, such as DBRX, Llama3, Mixtral, or your fine-tuned models on Databricks Model Serving, via a highly available and low-latency inference endpoint. LangChain provides LLM (`Databricks`), Chat Model (`ChatDatabricks`), and Embeddings (`DatabricksEmbeddings`) implementations, streamlining the integration of your models hosted on Databricks Model Serving with your LangChain applications.\\n2. 📃 **Vector Search** - Databricks Vector Search is a serverless vector database seamlessly integrated within the Databricks Platform. Using `DatabricksVectorSearch`, you can incorporate the highly scalable and reliable similarity search engine into your LangChain applications.\\n3. 📊 **MLflow** - MLflow is an open-source platform to manage full the ML lifecycle, including experiment management, evaluation, tracing, deployment, and more. MLflow's LangChain Integration streamlines the process of developing and operating modern compound ML systems.\\n4. 🌐 **SQL Database** - Databricks SQL is integrated with `SQLDatabase` in LangChain, allowing you to access the auto-optimizing, exceptionally performant data warehouse.\\n5. 💡 **Open Models** - Databricks open sources models, such as DBRX, which are available through the Hugging Face Hub. These models can be directly utilized with LangChain, leveraging its integration with the `transformers` library.\\n\\nInstallation\\n------------\\n\\nFirst-party Databricks integrations are now available in the databricks-langchain partner package.\\n\\n```\\npip install databricks-langchain\\n```\\n\\nThe legacy langchain-databricks partner package is still available but will be soon deprecated. \\n\\nChat Model\\n----------\\n\\n`ChatDatabricks` is a Chat Model class to access chat endpoints hosted on Databricks, including state-of-the-art models such as Llama3, Mixtral, and DBRX, as well as your own fine-tuned models.\", start_char_idx=None, end_char_idx=None, text_template='{metadata_str}\\n\\n{content}', metadata_template='{key}: {value}', metadata_seperator='\\n'), score=0.595996081829071)], metadata={'0d39fc6d-d93a-469f-bbdd-7c791bc74b9d': {}, 'd85f92bb-b2ac-491e-8921-74c829f6114d': {}, 'fe45c39b-27d6-4bc4-ad3c-12c1ea1049bf': {}, '7f75276e-507d-45d5-a3c3-50ab49ea41b9': {}, 'c9d608b5-23c4-45ea-9e3f-ef555dd72395': {}, 'd7694213-3e2b-4fca-b9a9-a54fa592696c': {}})"
            ]
          },
          "metadata": {},
          "execution_count": 27
        }
      ]
    },
    {
      "cell_type": "code",
      "source": [
        "# Sorgu motorunun oluşturduğu yanıtın yalnızca metin kısmını yazdırıyoruz.\n",
        "# - `response.response`: Sorguya verilen yanıtın metin formatındaki içeriğini döndürür.\n",
        "# Bu, yanıtı kullanıcıya daha okunabilir bir şekilde sunmak için kullanılır.\n",
        "print(response.response)\n"
      ],
      "metadata": {
        "colab": {
          "base_uri": "https://localhost:8080/"
        },
        "id": "NZM5wg9DQXux",
        "outputId": "8a4b2ef8-42e7-4f6d-d951-6371c2f2e67b"
      },
      "execution_count": 28,
      "outputs": [
        {
          "output_type": "stream",
          "name": "stdout",
          "text": [
            "In Langchain, a \"Chain\" refers to a sequence of tools or agents that are connected together to perform a specific task or workflow. These chains can include various components such as AI models, data processing tools, and other functionalities that work together to achieve a desired outcome. Chains in Langchain enable users to create complex workflows by linking different tools and agents in a structured manner to streamline processes and enhance productivity.\n"
          ]
        }
      ]
    },
    {
      "cell_type": "code",
      "source": [
        "\n",
        "# Gradio ile bir sohbet fonksiyonu tanımlıyoruz.\n",
        "# - `query`: Kullanıcının girdiği sorgu.\n",
        "# - `query_engine.query(query)`: Sorgu motorunu kullanarak kullanıcı sorusunu işliyoruz.\n",
        "# - `.response`: Sorguya verilen yanıtın metin kısmını döndürür.\n",
        "# Bu fonksiyon, kullanıcı sorgularını işleyip yanıt döndürmek için tasarlanmıştır.\n",
        "import gradio as gr\n",
        "\n",
        "def chat_function(query):\n",
        "    return query_engine.query(query).response\n"
      ],
      "metadata": {
        "id": "DCgscrVCQbg3"
      },
      "execution_count": 29,
      "outputs": []
    },
    {
      "cell_type": "code",
      "source": [
        "# Gradio ile bir kullanıcı arayüzü oluşturuyoruz.\n",
        "# - `fn=chat_function`: Kullanıcı girişlerini işleyen fonksiyon (burada `chat_function`).\n",
        "# - `inputs=\"text\"`: Kullanıcının metin formatında giriş yapmasını sağlıyoruz.\n",
        "# - `outputs=\"text\"`: Fonksiyonun metin formatında bir yanıt döndürmesini sağlıyoruz.\n",
        "# - `demo.launch(share=True)`: Arayüzü başlatıyor ve paylaşılabilir bir URL sağlıyor.\n",
        "# Bu, kullanıcıların web tarayıcısı üzerinden sorgularını göndermesine ve yanıt almasına olanak tanır.\n",
        "demo = gr.Interface(fn=chat_function, inputs=\"text\", outputs=\"text\")\n",
        "demo.launch(share=True)\n"
      ],
      "metadata": {
        "colab": {
          "base_uri": "https://localhost:8080/",
          "height": 609
        },
        "id": "emcASzHgQkq3",
        "outputId": "7aada52b-e11f-4f8e-9a34-b6b962332986"
      },
      "execution_count": 30,
      "outputs": [
        {
          "output_type": "stream",
          "name": "stdout",
          "text": [
            "Colab notebook detected. To show errors in colab notebook, set debug=True in launch()\n",
            "* Running on public URL: https://991a02fe987e50489c.gradio.live\n",
            "\n",
            "This share link expires in 72 hours. For free permanent hosting and GPU upgrades, run `gradio deploy` from the terminal in the working directory to deploy to Hugging Face Spaces (https://huggingface.co/spaces)\n"
          ]
        },
        {
          "output_type": "display_data",
          "data": {
            "text/plain": [
              "<IPython.core.display.HTML object>"
            ],
            "text/html": [
              "<div><iframe src=\"https://991a02fe987e50489c.gradio.live\" width=\"100%\" height=\"500\" allow=\"autoplay; camera; microphone; clipboard-read; clipboard-write;\" frameborder=\"0\" allowfullscreen></iframe></div>"
            ]
          },
          "metadata": {}
        },
        {
          "output_type": "execute_result",
          "data": {
            "text/plain": []
          },
          "metadata": {},
          "execution_count": 30
        }
      ]
    },
    {
      "cell_type": "code",
      "source": [],
      "metadata": {
        "id": "Lnyrfh2OQm3x"
      },
      "execution_count": null,
      "outputs": []
    }
  ]
}